{
  "nbformat": 4,
  "nbformat_minor": 0,
  "metadata": {
    "colab": {
      "provenance": [],
      "authorship_tag": "ABX9TyMzN3JoJZWAR4E8E9y+t5k+",
      "include_colab_link": true
    },
    "kernelspec": {
      "name": "python3",
      "display_name": "Python 3"
    },
    "language_info": {
      "name": "python"
    }
  },
  "cells": [
    {
      "cell_type": "markdown",
      "metadata": {
        "id": "view-in-github",
        "colab_type": "text"
      },
      "source": [
        "<a href=\"https://colab.research.google.com/github/Fitomarcelindo/Analisa-Algortima-With-Python/blob/main/NaiveBayesUTs.ipynb\" target=\"_parent\"><img src=\"https://colab.research.google.com/assets/colab-badge.svg\" alt=\"Open In Colab\"/></a>"
      ]
    },
    {
      "cell_type": "code",
      "execution_count": null,
      "metadata": {
        "colab": {
          "base_uri": "https://localhost:8080/"
        },
        "id": "l8hTDsP_SA_Y",
        "outputId": "ee94bd18-a444-448e-943a-ca02c023f6c8"
      },
      "outputs": [
        {
          "output_type": "stream",
          "name": "stdout",
          "text": [
            "<class 'pandas.core.frame.DataFrame'>\n",
            "RangeIndex: 38 entries, 0 to 37\n",
            "Data columns (total 5 columns):\n",
            " #   Column             Non-Null Count  Dtype  \n",
            "---  ------             --------------  -----  \n",
            " 0   Supervisor         38 non-null     object \n",
            " 1   Unnamed: 3         0 non-null      float64\n",
            " 2   Personal Number    38 non-null     int64  \n",
            " 3   Agama              38 non-null     object \n",
            " 4   Status Pernikahan  38 non-null     object \n",
            "dtypes: float64(1), int64(1), object(3)\n",
            "memory usage: 1.6+ KB\n"
          ]
        }
      ],
      "source": [
        "import pandas as pd\n",
        "from sklearn.model_selection import train_test_split\n",
        "from sklearn.naive_bayes import GaussianNB\n",
        "from sklearn.metrics import accuracy_score\n",
        "from sklearn.preprocessing import LabelEncoder\n",
        "from sklearn.naive_bayes import MultinomialNB\n",
        "from sklearn.impute import SimpleImputer\n",
        "\n",
        "# Membaca dataset dengan delimiter titik koma\n",
        "marcel = pd.read_csv('dataset-naivebayes.csv', delimiter=\";\")\n",
        "\n",
        "# Menghapus kolom 'Nama Pekerja' dan 'Jenis Kelamin'\n",
        "marcel = marcel.drop(['Nama Pekerja', 'Jenis Kelamin'], axis=1)\n",
        "\n",
        "marcel.info()\n"
      ]
    },
    {
      "cell_type": "code",
      "source": [
        "# Membuat objek LabelEncoder\n",
        "le = LabelEncoder()\n",
        "\n",
        "# Mengonversi kolom-kolom kategorikal menjadi numerik\n",
        "marcel['Agama'] = le.fit_transform(marcel['Agama'])\n",
        "marcel['Status Pernikahan'] = le.fit_transform(marcel['Status Pernikahan'])\n",
        "marcel['Supervisor'] = le.fit_transform(marcel['Supervisor'])\n",
        "\n",
        "# Mengatasi nilai NaN dengan SimpleImputer\n",
        "imputer = SimpleImputer(strategy='median')\n",
        "marcel = imputer.fit_transform(marcel)\n",
        "\n",
        "# Memilih fitur dan target\n",
        "x = marcel[:, :-1]\n",
        "y = marcel[:, -1]\n",
        "\n",
        "\n",
        "print(x)\n",
        "\n",
        "\n"
      ],
      "metadata": {
        "colab": {
          "base_uri": "https://localhost:8080/"
        },
        "id": "jIZVSYepSVJm",
        "outputId": "f3a40b13-21ab-4e42-8b3d-b94f86e6c45d"
      },
      "execution_count": null,
      "outputs": [
        {
          "output_type": "stream",
          "name": "stdout",
          "text": [
            "[[3.00000000e+00 8.09561247e+09 0.00000000e+00]\n",
            " [4.00000000e+00 8.09561247e+09 0.00000000e+00]\n",
            " [3.00000000e+00 8.09561247e+09 0.00000000e+00]\n",
            " [3.00000000e+00 8.09561247e+09 0.00000000e+00]\n",
            " [3.00000000e+00 8.09561247e+09 0.00000000e+00]\n",
            " [3.00000000e+00 8.09561247e+09 0.00000000e+00]\n",
            " [3.00000000e+00 8.09561247e+09 0.00000000e+00]\n",
            " [3.00000000e+00 8.09561247e+09 0.00000000e+00]\n",
            " [3.00000000e+00 8.09561247e+09 0.00000000e+00]\n",
            " [6.00000000e+00 8.09561247e+09 0.00000000e+00]\n",
            " [7.00000000e+00 8.09561247e+09 0.00000000e+00]\n",
            " [7.00000000e+00 8.09561247e+09 0.00000000e+00]\n",
            " [7.00000000e+00 8.09561247e+09 0.00000000e+00]\n",
            " [7.00000000e+00 8.09561247e+09 0.00000000e+00]\n",
            " [7.00000000e+00 8.09561247e+09 0.00000000e+00]\n",
            " [7.00000000e+00 8.09561247e+09 1.00000000e+00]\n",
            " [7.00000000e+00 8.09561247e+09 0.00000000e+00]\n",
            " [0.00000000e+00 8.09561247e+09 0.00000000e+00]\n",
            " [2.00000000e+00 8.09561247e+09 0.00000000e+00]\n",
            " [2.00000000e+00 8.09561247e+09 0.00000000e+00]\n",
            " [2.00000000e+00 8.09561247e+09 0.00000000e+00]\n",
            " [2.00000000e+00 8.09561247e+09 0.00000000e+00]\n",
            " [2.00000000e+00 8.09561247e+09 0.00000000e+00]\n",
            " [1.00000000e+00 8.09561247e+09 0.00000000e+00]\n",
            " [5.00000000e+00 8.09561247e+09 0.00000000e+00]\n",
            " [5.00000000e+00 8.09561247e+09 0.00000000e+00]\n",
            " [5.00000000e+00 8.09561247e+09 0.00000000e+00]\n",
            " [5.00000000e+00 8.09561247e+09 0.00000000e+00]\n",
            " [5.00000000e+00 8.09561247e+09 0.00000000e+00]\n",
            " [5.00000000e+00 8.09561247e+09 0.00000000e+00]\n",
            " [5.00000000e+00 8.09561247e+09 0.00000000e+00]\n",
            " [5.00000000e+00 8.09561247e+09 0.00000000e+00]\n",
            " [5.00000000e+00 8.09561247e+09 0.00000000e+00]\n",
            " [5.00000000e+00 8.09561247e+09 0.00000000e+00]\n",
            " [5.00000000e+00 8.09561247e+09 0.00000000e+00]\n",
            " [5.00000000e+00 8.09561247e+09 0.00000000e+00]\n",
            " [5.00000000e+00 8.09561247e+09 1.00000000e+00]\n",
            " [5.00000000e+00 8.09561247e+09 0.00000000e+00]]\n"
          ]
        }
      ]
    },
    {
      "cell_type": "code",
      "source": [
        "# Train-test split\n",
        "x_train, x_test, y_train, y_test = train_test_split(x, y, test_size=0.2, random_state=0)\n",
        "\n",
        "# Membuat model Naive Bayes (Gaussian Naive Bayes)\n",
        "model = GaussianNB()\n",
        "\n",
        "# Melatih model\n",
        "model.fit(x_train, y_train)\n",
        "\n",
        "# Melakukan prediksi\n",
        "predict = model.predict(x_test)\n",
        "\n",
        "# Menghitung akurasi\n",
        "accuracy = accuracy_score(y_test, predict)\n",
        "print(\"Naive Bayes Accuracy: \", accuracy * 100)"
      ],
      "metadata": {
        "colab": {
          "base_uri": "https://localhost:8080/"
        },
        "id": "ZG1Ug6MqsWmw",
        "outputId": "b8514374-d8d1-4f3e-b0eb-6c812fd7a1cc"
      },
      "execution_count": null,
      "outputs": [
        {
          "output_type": "stream",
          "name": "stdout",
          "text": [
            "Naive Bayes Accuracy:  87.5\n"
          ]
        }
      ]
    },
    {
      "cell_type": "code",
      "source": [],
      "metadata": {
        "id": "psmnWMGBsX2V"
      },
      "execution_count": null,
      "outputs": []
    }
  ]
}
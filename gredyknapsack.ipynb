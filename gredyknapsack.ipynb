{
  "nbformat": 4,
  "nbformat_minor": 0,
  "metadata": {
    "colab": {
      "provenance": [],
      "authorship_tag": "ABX9TyMRZcL7pHWkeyzH4omYOip2",
      "include_colab_link": true
    },
    "kernelspec": {
      "name": "python3",
      "display_name": "Python 3"
    },
    "language_info": {
      "name": "python"
    }
  },
  "cells": [
    {
      "cell_type": "markdown",
      "metadata": {
        "id": "view-in-github",
        "colab_type": "text"
      },
      "source": [
        "<a href=\"https://colab.research.google.com/github/Fitomarcelindo/Analisa-Algortima-With-Python/blob/main/gredyknapsack.ipynb\" target=\"_parent\"><img src=\"https://colab.research.google.com/assets/colab-badge.svg\" alt=\"Open In Colab\"/></a>"
      ]
    },
    {
      "cell_type": "code",
      "execution_count": null,
      "metadata": {
        "colab": {
          "base_uri": "https://localhost:8080/"
        },
        "id": "n9otIxXGB15Z",
        "outputId": "57e944c9-9e0c-4f03-c779-68c5c49d9002"
      },
      "outputs": [
        {
          "output_type": "stream",
          "name": "stdout",
          "text": [
            "Masukkan capcitiy =  8\n",
            "Max Value: 10\n",
            "Selected Items: [3, 5]\n"
          ]
        }
      ],
      "source": [
        "def knapsack(weights, values, capacity):\n",
        "    n = len(weights)\n",
        "    dp = [[0] * (capacity + 1) for _ in range(n + 1)]\n",
        "\n",
        "    for i in range(1, n + 1):\n",
        "        for j in range(1, capacity + 1):\n",
        "            if weights[i - 1] <= j:\n",
        "                dp[i][j] = max(values[i - 1] + dp[i - 1][j - weights[i - 1]], dp[i - 1][j])\n",
        "            else:\n",
        "                dp[i][j] = dp[i - 1][j]\n",
        "\n",
        "    selected_items = []\n",
        "    w = capacity\n",
        "\n",
        "    for i in range(n, 0, -1):\n",
        "        if dp[i][w] != dp[i - 1][w]:\n",
        "            selected_items.append(i - 1)\n",
        "            w -= weights[i - 1]\n",
        "\n",
        "    selected_items.reverse()\n",
        "    true_items = []\n",
        "\n",
        "    for i in selected_items:\n",
        "        true_items.append(weights[i])\n",
        "    return dp[n][capacity], true_items\n",
        "\n",
        "\n",
        "# Contoh penggunaan\n",
        "weights = [2, 3, 4, 5]\n",
        "values =  [3, 4, 5, 6]\n",
        "capacity = int(input(\"Masukkan capcitiy =  \"))\n",
        "max_value, selected_items = knapsack(weights, values, capacity)\n",
        "\n",
        "print(\"Max Value:\", max_value)\n",
        "print(\"Selected Items:\", selected_items)"
      ]
    },
    {
      "cell_type": "code",
      "source": [],
      "metadata": {
        "id": "0W8vOi0GDEsk"
      },
      "execution_count": null,
      "outputs": []
    }
  ]
}
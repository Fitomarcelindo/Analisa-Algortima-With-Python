{
  "nbformat": 4,
  "nbformat_minor": 0,
  "metadata": {
    "colab": {
      "provenance": [],
      "authorship_tag": "ABX9TyPAFeeK9nVwb++C/qigdWit",
      "include_colab_link": true
    },
    "kernelspec": {
      "name": "python3",
      "display_name": "Python 3"
    },
    "language_info": {
      "name": "python"
    }
  },
  "cells": [
    {
      "cell_type": "markdown",
      "metadata": {
        "id": "view-in-github",
        "colab_type": "text"
      },
      "source": [
        "<a href=\"https://colab.research.google.com/github/Fitomarcelindo/Analisa-Algortima-With-Python/blob/main/dataset_SVM_FittoMartcellindo.ipynb\" target=\"_parent\"><img src=\"https://colab.research.google.com/assets/colab-badge.svg\" alt=\"Open In Colab\"/></a>"
      ]
    },
    {
      "cell_type": "code",
      "source": [
        "import numpy as np\n",
        "import pandas as pd\n",
        "from sklearn.model_selection import train_test_split\n",
        "from sklearn.svm import SVC\n",
        "from sklearn.metrics import accuracy_score"
      ],
      "metadata": {
        "id": "Ud5vvzgkogxN"
      },
      "execution_count": 42,
      "outputs": []
    },
    {
      "cell_type": "code",
      "source": [
        "df = pd.read_csv(\"travel_tourism_dataset.csv\")"
      ],
      "metadata": {
        "id": "qudPdO2wmpvd"
      },
      "execution_count": 43,
      "outputs": []
    },
    {
      "cell_type": "code",
      "source": [
        "X = df[['Age']]\n",
        "y = df['Duration']"
      ],
      "metadata": {
        "id": "UijwrfPKomB3"
      },
      "execution_count": 44,
      "outputs": []
    },
    {
      "cell_type": "code",
      "source": [
        "X_train, X_test, y_train, y_test = train_test_split(X, y, test_size=0.2, random_state=42)"
      ],
      "metadata": {
        "id": "v77QHg1lopja"
      },
      "execution_count": 45,
      "outputs": []
    },
    {
      "cell_type": "code",
      "source": [
        "model = SVC(kernel='linear', C=1)\n",
        "model.fit(X_train, y_train)"
      ],
      "metadata": {
        "colab": {
          "base_uri": "https://localhost:8080/",
          "height": 74
        },
        "id": "W49xIXIBovi7",
        "outputId": "109fa505-6441-4e22-d702-d62e6f5b2205"
      },
      "execution_count": 46,
      "outputs": [
        {
          "output_type": "execute_result",
          "data": {
            "text/plain": [
              "SVC(C=1, kernel='linear')"
            ],
            "text/html": [
              "<style>#sk-container-id-1 {color: black;background-color: white;}#sk-container-id-1 pre{padding: 0;}#sk-container-id-1 div.sk-toggleable {background-color: white;}#sk-container-id-1 label.sk-toggleable__label {cursor: pointer;display: block;width: 100%;margin-bottom: 0;padding: 0.3em;box-sizing: border-box;text-align: center;}#sk-container-id-1 label.sk-toggleable__label-arrow:before {content: \"▸\";float: left;margin-right: 0.25em;color: #696969;}#sk-container-id-1 label.sk-toggleable__label-arrow:hover:before {color: black;}#sk-container-id-1 div.sk-estimator:hover label.sk-toggleable__label-arrow:before {color: black;}#sk-container-id-1 div.sk-toggleable__content {max-height: 0;max-width: 0;overflow: hidden;text-align: left;background-color: #f0f8ff;}#sk-container-id-1 div.sk-toggleable__content pre {margin: 0.2em;color: black;border-radius: 0.25em;background-color: #f0f8ff;}#sk-container-id-1 input.sk-toggleable__control:checked~div.sk-toggleable__content {max-height: 200px;max-width: 100%;overflow: auto;}#sk-container-id-1 input.sk-toggleable__control:checked~label.sk-toggleable__label-arrow:before {content: \"▾\";}#sk-container-id-1 div.sk-estimator input.sk-toggleable__control:checked~label.sk-toggleable__label {background-color: #d4ebff;}#sk-container-id-1 div.sk-label input.sk-toggleable__control:checked~label.sk-toggleable__label {background-color: #d4ebff;}#sk-container-id-1 input.sk-hidden--visually {border: 0;clip: rect(1px 1px 1px 1px);clip: rect(1px, 1px, 1px, 1px);height: 1px;margin: -1px;overflow: hidden;padding: 0;position: absolute;width: 1px;}#sk-container-id-1 div.sk-estimator {font-family: monospace;background-color: #f0f8ff;border: 1px dotted black;border-radius: 0.25em;box-sizing: border-box;margin-bottom: 0.5em;}#sk-container-id-1 div.sk-estimator:hover {background-color: #d4ebff;}#sk-container-id-1 div.sk-parallel-item::after {content: \"\";width: 100%;border-bottom: 1px solid gray;flex-grow: 1;}#sk-container-id-1 div.sk-label:hover label.sk-toggleable__label {background-color: #d4ebff;}#sk-container-id-1 div.sk-serial::before {content: \"\";position: absolute;border-left: 1px solid gray;box-sizing: border-box;top: 0;bottom: 0;left: 50%;z-index: 0;}#sk-container-id-1 div.sk-serial {display: flex;flex-direction: column;align-items: center;background-color: white;padding-right: 0.2em;padding-left: 0.2em;position: relative;}#sk-container-id-1 div.sk-item {position: relative;z-index: 1;}#sk-container-id-1 div.sk-parallel {display: flex;align-items: stretch;justify-content: center;background-color: white;position: relative;}#sk-container-id-1 div.sk-item::before, #sk-container-id-1 div.sk-parallel-item::before {content: \"\";position: absolute;border-left: 1px solid gray;box-sizing: border-box;top: 0;bottom: 0;left: 50%;z-index: -1;}#sk-container-id-1 div.sk-parallel-item {display: flex;flex-direction: column;z-index: 1;position: relative;background-color: white;}#sk-container-id-1 div.sk-parallel-item:first-child::after {align-self: flex-end;width: 50%;}#sk-container-id-1 div.sk-parallel-item:last-child::after {align-self: flex-start;width: 50%;}#sk-container-id-1 div.sk-parallel-item:only-child::after {width: 0;}#sk-container-id-1 div.sk-dashed-wrapped {border: 1px dashed gray;margin: 0 0.4em 0.5em 0.4em;box-sizing: border-box;padding-bottom: 0.4em;background-color: white;}#sk-container-id-1 div.sk-label label {font-family: monospace;font-weight: bold;display: inline-block;line-height: 1.2em;}#sk-container-id-1 div.sk-label-container {text-align: center;}#sk-container-id-1 div.sk-container {/* jupyter's `normalize.less` sets `[hidden] { display: none; }` but bootstrap.min.css set `[hidden] { display: none !important; }` so we also need the `!important` here to be able to override the default hidden behavior on the sphinx rendered scikit-learn.org. See: https://github.com/scikit-learn/scikit-learn/issues/21755 */display: inline-block !important;position: relative;}#sk-container-id-1 div.sk-text-repr-fallback {display: none;}</style><div id=\"sk-container-id-1\" class=\"sk-top-container\"><div class=\"sk-text-repr-fallback\"><pre>SVC(C=1, kernel=&#x27;linear&#x27;)</pre><b>In a Jupyter environment, please rerun this cell to show the HTML representation or trust the notebook. <br />On GitHub, the HTML representation is unable to render, please try loading this page with nbviewer.org.</b></div><div class=\"sk-container\" hidden><div class=\"sk-item\"><div class=\"sk-estimator sk-toggleable\"><input class=\"sk-toggleable__control sk-hidden--visually\" id=\"sk-estimator-id-1\" type=\"checkbox\" checked><label for=\"sk-estimator-id-1\" class=\"sk-toggleable__label sk-toggleable__label-arrow\">SVC</label><div class=\"sk-toggleable__content\"><pre>SVC(C=1, kernel=&#x27;linear&#x27;)</pre></div></div></div></div></div>"
            ]
          },
          "metadata": {},
          "execution_count": 46
        }
      ]
    },
    {
      "cell_type": "code",
      "source": [
        "y_pred = model.predict(X_test)"
      ],
      "metadata": {
        "id": "4ezf92s1ovtF"
      },
      "execution_count": 47,
      "outputs": []
    },
    {
      "cell_type": "code",
      "source": [
        "accuracy = accuracy_score(y_test, y_pred)\n",
        "print(\"Akurasi Model: {:.2f}%\".format(accuracy * 100))"
      ],
      "metadata": {
        "colab": {
          "base_uri": "https://localhost:8080/"
        },
        "id": "JMAcyrF9ovvu",
        "outputId": "7813fcef-f645-4a9c-de25-93f760a95393"
      },
      "execution_count": 48,
      "outputs": [
        {
          "output_type": "stream",
          "name": "stdout",
          "text": [
            "Akurasi Model: 3.50%\n"
          ]
        }
      ]
    },
    {
      "cell_type": "code",
      "source": [
        "X_test['Predicted_Duration'] = y_pred\n"
      ],
      "metadata": {
        "id": "SFj9qX5OovyW"
      },
      "execution_count": 49,
      "outputs": []
    },
    {
      "cell_type": "code",
      "source": [
        "df_with_predictions = pd.concat([df, X_test], axis=1)"
      ],
      "metadata": {
        "id": "NXbFxv8Yov16"
      },
      "execution_count": 50,
      "outputs": []
    },
    {
      "cell_type": "code",
      "source": [
        "print(df_with_predictions)"
      ],
      "metadata": {
        "colab": {
          "base_uri": "https://localhost:8080/"
        },
        "id": "VBm9ymWUo6Ex",
        "outputId": "bf92ebb9-115c-4184-8885-430ee49ca3fd"
      },
      "execution_count": 51,
      "outputs": [
        {
          "output_type": "stream",
          "name": "stdout",
          "text": [
            "      Trip #no.  Duration  Cost of Travel(Entire Trip) Mode of Travel  \\\n",
            "0            55         1                        20111         Flight   \n",
            "1           288         5                        29681            Car   \n",
            "2           291         7                        24950         Flight   \n",
            "3           131        19                        18676       Roadtrip   \n",
            "4           281        28                        18899         Flight   \n",
            "...         ...       ...                          ...            ...   \n",
            "2995        142        24                        17801       Roadtrip   \n",
            "2996        265        16                        23410          Train   \n",
            "2997        232        22                         5656       Roadtrip   \n",
            "2998        112        15                        27509            Car   \n",
            "2999        283        13                        19865         Cruise   \n",
            "\n",
            "         Stay First Name   Last Name Date of Birth  \\\n",
            "0       Hotel   Cristina     Fuentes    1914-06-14   \n",
            "1       Hotel   Patricia       Young    1923-09-25   \n",
            "2      Airbnb  Christina       Kirby    1935-01-02   \n",
            "3      Airbnb    Michael      Hudson    1982-04-21   \n",
            "4      Airbnb  Francisco     Hensley    1913-06-29   \n",
            "...       ...        ...         ...           ...   \n",
            "2995  Resorts      Kerry       Allen    2002-06-02   \n",
            "2996    Hotel      Kevin     Johnson    1916-07-28   \n",
            "2997    Hotel    William  Mclaughlin    1917-07-25   \n",
            "2998   Airbnb     Marcus         Ray    1962-07-07   \n",
            "2999   Airbnb        Tom    Fletcher    1990-03-20   \n",
            "\n",
            "                                                Address  Age         Sex  \\\n",
            "0         5143 Pope Camp Apt. 028\\nLake Emily, UT 71371   74  Non-Binary   \n",
            "1     716 Dominguez Row Suite 775\\nSouth Tiffanyboro...   19      Female   \n",
            "2                      PSC 4600, Box 1237\\nAPO AE 32510   36      Female   \n",
            "3      7013 Bryant Club Suite 695\\nSouth Tina, WI 26739   38  Non-Binary   \n",
            "4        074 Scott Brook Suite 700\\nLukeville, VA 46541   38  Non-Binary   \n",
            "...                                                 ...  ...         ...   \n",
            "2995  93471 Joyce Courts Apt. 859\\nMitchellside, OK ...   73  Non-Binary   \n",
            "2996  921 Katie Parkways Apt. 558\\nWest Lawrence, CT...   50        Male   \n",
            "2997  99384 Shirley Pine Apt. 439\\nEast Angela, ND 1...   36  Non-Binary   \n",
            "2998                   PSC 1488, Box 2535\\nAPO AP 58905   48      Female   \n",
            "2999  908 Christina Junctions Apt. 546\\nPerkinsville...   22  Non-Binary   \n",
            "\n",
            "                           Nationality Date of Travel   Age  \\\n",
            "0     Lao People's Democratic Republic     2022-09-13  74.0   \n",
            "1                                Gabon     2021-09-04   NaN   \n",
            "2                 Syrian Arab Republic     2021-01-25   NaN   \n",
            "3                          Afghanistan     2022-01-28   NaN   \n",
            "4                              Uruguay     2021-10-21   NaN   \n",
            "...                                ...            ...   ...   \n",
            "2995                              Mali     2023-07-03   NaN   \n",
            "2996                            Mexico     2022-08-22  50.0   \n",
            "2997                    American Samoa     2021-02-08   NaN   \n",
            "2998                            Jersey     2021-06-19   NaN   \n",
            "2999                        Mozambique     2021-08-07  22.0   \n",
            "\n",
            "      Predicted_Duration  \n",
            "0                    6.0  \n",
            "1                    NaN  \n",
            "2                    NaN  \n",
            "3                    NaN  \n",
            "4                    NaN  \n",
            "...                  ...  \n",
            "2995                 NaN  \n",
            "2996                 6.0  \n",
            "2997                 NaN  \n",
            "2998                 NaN  \n",
            "2999                15.0  \n",
            "\n",
            "[3000 rows x 15 columns]\n"
          ]
        }
      ]
    },
    {
      "cell_type": "code",
      "source": [],
      "metadata": {
        "id": "Lq-5OP1bpAKC"
      },
      "execution_count": 51,
      "outputs": []
    }
  ]
}